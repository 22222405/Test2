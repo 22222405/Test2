{
 "cells": [
  {
   "cell_type": "markdown",
   "id": "2baba376-aa47-4562-81c1-18720fed6a4d",
   "metadata": {},
   "source": [
    "Advantages:\n",
    "Simple and easy to implement.\n",
    "Works well for small datasets or when the dataset is not sorted.\n",
    "\n",
    "Binary Search:\n",
    "Performance: Binary search has a time complexity of O(log n), where n is the number of elements in the dataset.\n",
    "Reasons:\n",
    "Binary search requires the dataset to be sorted in ascending or descending order.\n",
    "It efficiently reduces the search space by half in each iteration by comparing the target element with the middle element of the dataset.\n",
    "It works well for large datasets and provides faster search compared to linear search.\n",
    "\n",
    "Advantages:\n",
    "Faster search performance, especially for large sorted datasets.\n",
    "Ideal for situations where the dataset is sorted and frequently searched."
   ]
  },
  {
   "cell_type": "code",
   "execution_count": 2,
   "id": "65560347-4fd3-4c19-aeb7-f0940ddb9ad6",
   "metadata": {},
   "outputs": [],
   "source": [
    "import pandas as pd"
   ]
  },
  {
   "cell_type": "code",
   "execution_count": 3,
   "id": "c431c061-832e-4342-ba99-560bc080bcb6",
   "metadata": {},
   "outputs": [],
   "source": [
    "df = pd.read_csv('Settlements.csv')\n"
   ]
  },
  {
   "cell_type": "code",
   "execution_count": 4,
   "id": "f343312e-4756-4728-aa9c-d65548d79918",
   "metadata": {},
   "outputs": [],
   "source": [
    "def linear_search(arr, target):\n",
    "    for i in range(len(arr)):\n",
    "        if arr[i] == target:\n",
    "            return i\n",
    "    return -1\n"
   ]
  },
  {
   "cell_type": "code",
   "execution_count": 5,
   "id": "dca1049c-fc4d-4f2e-93a0-0898d52d6b59",
   "metadata": {},
   "outputs": [],
   "source": [
    "def binary_search(arr, target):\n",
    "    low = 0\n",
    "    high = len(arr) - 1\n",
    "    while low <= high:\n",
    "        mid = (low + high) // 2\n",
    "        if arr[mid] == target:\n",
    "            return mid\n",
    "        elif arr[mid] < target:\n",
    "            low = mid + 1\n",
    "        else:\n",
    "            high = mid - 1\n",
    "    return -1\n"
   ]
  },
  {
   "cell_type": "code",
   "execution_count": 14,
   "id": "913d1f94-c774-4dac-8a9d-790cde9d0448",
   "metadata": {},
   "outputs": [],
   "source": [
    "avg_hhsize_column = sorted(df['avg_hhsize'].tolist())  # Assuming 'avg_hhsize' column is sorted\n",
    "target_element = 0.523973  # Example target element to search for\n",
    "\n"
   ]
  },
  {
   "cell_type": "code",
   "execution_count": 15,
   "id": "50735b5b-2848-4d69-af5e-bc33b7b49ff5",
   "metadata": {},
   "outputs": [
    {
     "name": "stdout",
     "output_type": "stream",
     "text": [
      "Linear Search Result: -1\n"
     ]
    }
   ],
   "source": [
    "linear_result = linear_search(avg_hhsize_column, target_element)\n",
    "print(\"Linear Search Result:\", linear_result)\n"
   ]
  },
  {
   "cell_type": "code",
   "execution_count": null,
   "id": "d8a12f2f-06b2-4f6f-9521-62481bc57667",
   "metadata": {},
   "outputs": [],
   "source": []
  }
 ],
 "metadata": {
  "kernelspec": {
   "display_name": "Python 3 (ipykernel)",
   "language": "python",
   "name": "python3"
  },
  "language_info": {
   "codemirror_mode": {
    "name": "ipython",
    "version": 3
   },
   "file_extension": ".py",
   "mimetype": "text/x-python",
   "name": "python",
   "nbconvert_exporter": "python",
   "pygments_lexer": "ipython3",
   "version": "3.12.2"
  }
 },
 "nbformat": 4,
 "nbformat_minor": 5
}
