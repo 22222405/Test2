{
 "cells": [
  {
   "cell_type": "code",
   "execution_count": 1,
   "id": "31361a12-6967-4d5e-aa9f-6bd60d80c95d",
   "metadata": {},
   "outputs": [],
   "source": [
    "import pandas as pd"
   ]
  },
  {
   "cell_type": "code",
   "execution_count": 2,
   "id": "bd967829-846c-43ef-9e78-b9b7e253ac13",
   "metadata": {},
   "outputs": [],
   "source": [
    "df=pd.read_csv('Settlements.csv')"
   ]
  },
  {
   "cell_type": "markdown",
   "id": "f7161df7-954a-42d7-b7a9-68f173a57639",
   "metadata": {},
   "source": [
    "This data set is found in https://data.openup.org.za/dataset?tags=settlements&q=informal+settlement\n",
    "\n",
    "This dataset is well-suited for conducting thorough and reliable analyses of informal settlements, \n",
    "making it a valuable resource for research and policy development in urban planning and development contexts."
   ]
  }
 ],
 "metadata": {
  "kernelspec": {
   "display_name": "Python 3 (ipykernel)",
   "language": "python",
   "name": "python3"
  },
  "language_info": {
   "codemirror_mode": {
    "name": "ipython",
    "version": 3
   },
   "file_extension": ".py",
   "mimetype": "text/x-python",
   "name": "python",
   "nbconvert_exporter": "python",
   "pygments_lexer": "ipython3",
   "version": "3.12.2"
  }
 },
 "nbformat": 4,
 "nbformat_minor": 5
}
